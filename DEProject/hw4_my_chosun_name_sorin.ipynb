{
 "cells": [
  {
   "cell_type": "markdown",
   "id": "431bc90e",
   "metadata": {},
   "source": [
    "1. 태어난 달(month)에 해당되는 이름의 첫 번째 글자를 구하기 위한 리스트 생성"
   ]
  },
  {
   "cell_type": "code",
   "execution_count": 1,
   "id": "bfc7b6a3",
   "metadata": {},
   "outputs": [],
   "source": [
    "month_names = ['쌍', '쇠', '복', '돌', '팽', '육', '쌍', '개', '칠', '갑', '삼', '방']"
   ]
  },
  {
   "cell_type": "markdown",
   "id": "af05754b",
   "metadata": {},
   "source": [
    "2. 태어난 날짜(day)에 해당되는 이름의 두번째 글자를 구하기 위한 리스트를 생성하시오."
   ]
  },
  {
   "cell_type": "code",
   "execution_count": 2,
   "id": "9a0eda66",
   "metadata": {},
   "outputs": [],
   "source": [
    "day_names = ['봉', '구', '욕', '포', '똥', '삼', '식', '석', '놈', '님', '년', '돌', '단', '득', '방', '질', '장', '걸', '래', '룡', '동', '순', '자', '박', '창', '언', '것', '포', '만', '단', '국']"
   ]
  },
  {
   "cell_type": "markdown",
   "id": "7ed85a77",
   "metadata": {},
   "source": [
    "3. 나의 조선시대 이름을 문자열로 반환하는 함수 get_my_chosun_name() 을 작성하시오."
   ]
  },
  {
   "cell_type": "code",
   "execution_count": 3,
   "id": "c36429b5",
   "metadata": {},
   "outputs": [],
   "source": [
    "def get_my_chosun_name(family_name, month, day):\n",
    "    first_name = month_names[month - 1]\n",
    "    second_name = day_names[day - 1]\n",
    "    \n",
    "    chosun_name = family_name + first_name + second_name\n",
    "    return f'당신의 조선시대 이름은 {chosun_name} 입니다.'\n"
   ]
  },
  {
   "cell_type": "markdown",
   "id": "17dc3e23",
   "metadata": {},
   "source": [
    "4. 완성된 함수를 호출하여 나의 조선시대 이름을 출력하시오,"
   ]
  },
  {
   "cell_type": "code",
   "execution_count": 4,
   "id": "1bbfea3b",
   "metadata": {
    "scrolled": true
   },
   "outputs": [
    {
     "name": "stdout",
     "output_type": "stream",
     "text": [
      "당신의 조선시대 이름은 박돌래 입니다.\n"
     ]
    }
   ],
   "source": [
    "print(get_my_chosun_name('박', 4, 19))"
   ]
  }
 ],
 "metadata": {
  "kernelspec": {
   "display_name": "Python 3 (ipykernel)",
   "language": "python",
   "name": "python3"
  },
  "language_info": {
   "codemirror_mode": {
    "name": "ipython",
    "version": 3
   },
   "file_extension": ".py",
   "mimetype": "text/x-python",
   "name": "python",
   "nbconvert_exporter": "python",
   "pygments_lexer": "ipython3",
   "version": "3.8.8"
  }
 },
 "nbformat": 4,
 "nbformat_minor": 5
}
