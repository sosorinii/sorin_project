{
 "cells": [
  {
   "cell_type": "code",
   "execution_count": 1,
   "id": "d7c3532f",
   "metadata": {},
   "outputs": [],
   "source": [
    "lovely_loveseat_description = \"Lovely Loveseat. Tufted polyester blend on wood. 32 inches high x 40 inches wide x 30 inches deep. Red or white\""
   ]
  },
  {
   "cell_type": "code",
   "execution_count": 2,
   "id": "ff633ec2",
   "metadata": {},
   "outputs": [],
   "source": [
    "lovely_loveseat_price=254.00"
   ]
  },
  {
   "cell_type": "code",
   "execution_count": 3,
   "id": "f1c8d362",
   "metadata": {},
   "outputs": [],
   "source": [
    "stylish_settee_description = \"Stylish Settee. Faux leather on birch. 29.50 inches high x 54.75 inches wide x 28 inches deep. Black.\""
   ]
  },
  {
   "cell_type": "code",
   "execution_count": 4,
   "id": "eb4ec0fd",
   "metadata": {},
   "outputs": [],
   "source": [
    "stylish_settee_price = 180.50"
   ]
  },
  {
   "cell_type": "code",
   "execution_count": 5,
   "id": "d2fa8218",
   "metadata": {},
   "outputs": [],
   "source": [
    "luxurious_lamp_description = \"Luxurious Lamp. Glass and iron. 36 inches tall. Brown with cream shade.\""
   ]
  },
  {
   "cell_type": "code",
   "execution_count": 6,
   "id": "b27c298d",
   "metadata": {},
   "outputs": [],
   "source": [
    "luxurious_lamp_price = 52.15"
   ]
  },
  {
   "cell_type": "code",
   "execution_count": 7,
   "id": "d86f87d6",
   "metadata": {},
   "outputs": [],
   "source": [
    "sales_tax = .088"
   ]
  },
  {
   "cell_type": "code",
   "execution_count": 8,
   "id": "725d88bc",
   "metadata": {},
   "outputs": [],
   "source": [
    "customer_one_total = 0"
   ]
  },
  {
   "cell_type": "code",
   "execution_count": 9,
   "id": "110f048c",
   "metadata": {},
   "outputs": [],
   "source": [
    "customer_one_itemization = \"\""
   ]
  },
  {
   "cell_type": "code",
   "execution_count": 10,
   "id": "bf3d2338",
   "metadata": {},
   "outputs": [],
   "source": [
    "customer_one_total += lovely_loveseat_price"
   ]
  },
  {
   "cell_type": "code",
   "execution_count": 11,
   "id": "219e3959",
   "metadata": {},
   "outputs": [],
   "source": [
    "customer_one_itemization += lovely_loveseat_description"
   ]
  },
  {
   "cell_type": "code",
   "execution_count": 12,
   "id": "8d10d641",
   "metadata": {},
   "outputs": [],
   "source": [
    "customer_one_total += luxurious_lamp_price\n",
    "customer_one_itemization += luxurious_lamp_description"
   ]
  },
  {
   "cell_type": "code",
   "execution_count": 13,
   "id": "74627d77",
   "metadata": {},
   "outputs": [],
   "source": [
    "customer_one_tax = customer_one_total * sales_tax"
   ]
  },
  {
   "cell_type": "code",
   "execution_count": 17,
   "id": "50aa534f",
   "metadata": {},
   "outputs": [],
   "source": [
    "customer_one_total+=customer_one_tax"
   ]
  },
  {
   "cell_type": "code",
   "execution_count": 25,
   "id": "43fec7b3",
   "metadata": {},
   "outputs": [
    {
     "name": "stdout",
     "output_type": "stream",
     "text": [
      "Customer One Items:\n",
      "Lovely Loveseat. Tufted polyester blend on wood. 32 inches high x 40 inches wide x 30 inches deep. Red or whiteLuxurious Lamp. Glass and iron. 36 inches tall. Brown with cream shade.\n",
      "Customer One Total:\n",
      "333.09119999999996\n"
     ]
    }
   ],
   "source": [
    "print(\"Customer One Items:\")\n",
    "print(customer_one_itemization)\n",
    "print(\"Customer One Total:\")\n",
    "print(customer_one_total)"
   ]
  }
 ],
 "metadata": {
  "kernelspec": {
   "display_name": "Python 3 (ipykernel)",
   "language": "python",
   "name": "python3"
  },
  "language_info": {
   "codemirror_mode": {
    "name": "ipython",
    "version": 3
   },
   "file_extension": ".py",
   "mimetype": "text/x-python",
   "name": "python",
   "nbconvert_exporter": "python",
   "pygments_lexer": "ipython3",
   "version": "3.8.8"
  }
 },
 "nbformat": 4,
 "nbformat_minor": 5
}
